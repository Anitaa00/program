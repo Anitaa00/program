{
  "cells": [
    {
      "cell_type": "markdown",
      "metadata": {
        "id": "view-in-github",
        "colab_type": "text"
      },
      "source": [
        "<a href=\"https://colab.research.google.com/github/Anitaa00/program/blob/main/animales.ipynb\" target=\"_parent\"><img src=\"https://colab.research.google.com/assets/colab-badge.svg\" alt=\"Open In Colab\"/></a>"
      ]
    },
    {
      "cell_type": "code",
      "execution_count": null,
      "metadata": {
        "id": "6l6k0469fdC_"
      },
      "outputs": [],
      "source": [
        "class Animal:\n",
        "    def __init__(self, nombre, patas, color):\n",
        "        self.nombre=nombre\n",
        "        self.patas=patas\n",
        "        self.color=color\n",
        "    def desc(self):\n",
        "        print(f\"el animal {self.nombre} tiene {self.patas} patas y es color {self.color}\")"
      ]
    },
    {
      "cell_type": "code",
      "execution_count": null,
      "metadata": {
        "id": "v0d00vajfdDA",
        "outputId": "792faa74-f0fe-4af2-90a2-07f0d3e3bbf2"
      },
      "outputs": [
        {
          "name": "stdout",
          "output_type": "stream",
          "text": [
            "el animal Pulpo tiene 8 patas y es color azul\n"
          ]
        }
      ],
      "source": [
        "Pulpo=Animal(\"Pulpo\", 8, \"azul\")\n",
        "Pulpo.desc()"
      ]
    },
    {
      "cell_type": "code",
      "execution_count": null,
      "metadata": {
        "id": "yJ7STaulfdDB",
        "outputId": "2d4dc41f-8c18-4967-a557-e4e364358bc3"
      },
      "outputs": [
        {
          "name": "stdout",
          "output_type": "stream",
          "text": [
            "el animal Perico tiene 2 patas y es color verde\n"
          ]
        }
      ],
      "source": [
        "Perico=Animal(\"Perico\", 2, \"verde\")\n",
        "Perico.desc()"
      ]
    },
    {
      "cell_type": "code",
      "execution_count": null,
      "metadata": {
        "id": "uvADLIs8fdDB",
        "outputId": "2d0b3676-088c-4809-ad9b-70ea578416bf"
      },
      "outputs": [
        {
          "name": "stdout",
          "output_type": "stream",
          "text": [
            "el animal Beta tiene 0 patas y es color morado\n"
          ]
        }
      ],
      "source": [
        "Beta=Animal(\"Beta\", 0, \"morado\")\n",
        "Beta.desc()"
      ]
    },
    {
      "cell_type": "code",
      "execution_count": null,
      "metadata": {
        "id": "Y6lw6PmDfdDB",
        "outputId": "a463976a-5169-429f-bb0a-dc713a4b96a6"
      },
      "outputs": [
        {
          "name": "stdout",
          "output_type": "stream",
          "text": [
            "el animal jirafa tiene 4 patas y es color café\n"
          ]
        }
      ],
      "source": [
        "Girafa=Animal(\"jirafa\", 4, \"café\")\n",
        "Girafa.desc()"
      ]
    },
    {
      "cell_type": "code",
      "execution_count": null,
      "metadata": {
        "id": "fwXAGZUFfdDB"
      },
      "outputs": [],
      "source": [
        "class Aves(Animal):\n",
        "    def __init__(self, nombre, patas, color, pico):\n",
        "        super().__init__(nombre, patas, color)\n",
        "        self.pico=pico\n",
        "\n",
        "    def sal(self):\n",
        "        print(f\"hola soy un ave y mi pico mide {self.pico} cm\")\n",
        ""
      ]
    },
    {
      "cell_type": "code",
      "execution_count": null,
      "metadata": {
        "id": "9ez56zdYfdDB"
      },
      "outputs": [],
      "source": [
        "class Peces(Animal):\n",
        "    def __init__(self, nombre, patas, color, medida):\n",
        "        super().__init__(nombre, patas, color)\n",
        "        self.medida=medida\n",
        "\n",
        "    def salu(self):\n",
        "        print(f\"hola soy un pez y mido {self.medida} cm\")\n",
        ""
      ]
    },
    {
      "cell_type": "code",
      "execution_count": null,
      "metadata": {
        "id": "K_mMdkCdfdDB"
      },
      "outputs": [],
      "source": [
        "class Mamiferos(Animal):\n",
        "    def __init__(self, nombre, patas, color, comida):\n",
        "        super().__init__(nombre, patas, color)\n",
        "        self.comida=comida\n",
        "\n",
        "    def saludo(self):\n",
        "        print(f\"hola soy un pez y como {self.comida}\")\n",
        ""
      ]
    },
    {
      "cell_type": "code",
      "execution_count": null,
      "metadata": {
        "id": "ORdq5EMIfdDB",
        "outputId": "3e7d58da-98aa-4d84-a058-2141c0bc519b"
      },
      "outputs": [
        {
          "name": "stdout",
          "output_type": "stream",
          "text": [
            "el animal Perico tiene 2 patas y es color verde\n",
            "hola soy un ave y mi pico mide 5 cm\n"
          ]
        }
      ],
      "source": [
        "Perico=Aves(\"Perico\", 2, \"verde\", 5)\n",
        "Perico.desc()\n",
        "Perico.sal()"
      ]
    },
    {
      "cell_type": "code",
      "execution_count": null,
      "metadata": {
        "id": "sK8hiEVdfdDB",
        "outputId": "a868505b-e228-4cb9-f048-d0a3c2bd5437"
      },
      "outputs": [
        {
          "name": "stdout",
          "output_type": "stream",
          "text": [
            "el animal Beta tiene 0 patas y es color morado\n",
            "hola soy un pez y mido 15 cm\n"
          ]
        }
      ],
      "source": [
        "Beta=Peces(\"Beta\", 0, \"morado\", 15)\n",
        "Beta.desc()\n",
        "Beta.salu()"
      ]
    },
    {
      "cell_type": "code",
      "execution_count": null,
      "metadata": {
        "id": "SZpZYyLpfdDC",
        "outputId": "7792ba93-91fe-415e-e96b-eff49b4343bb"
      },
      "outputs": [
        {
          "name": "stdout",
          "output_type": "stream",
          "text": [
            "el animal Jirafa tiene 4 patas y es color café\n",
            "hola soy un pez y como plantas\n"
          ]
        }
      ],
      "source": [
        "Jirafa=Mamiferos(\"Jirafa\", 4, \"café\", \"plantas\")\n",
        "Jirafa.desc()\n",
        "Jirafa.saludo()"
      ]
    }
  ],
  "metadata": {
    "kernelspec": {
      "display_name": "Python 3",
      "language": "python",
      "name": "python3"
    },
    "language_info": {
      "codemirror_mode": {
        "name": "ipython",
        "version": 3
      },
      "file_extension": ".py",
      "mimetype": "text/x-python",
      "name": "python",
      "nbconvert_exporter": "python",
      "pygments_lexer": "ipython3",
      "version": "3.13.1"
    },
    "colab": {
      "provenance": [],
      "include_colab_link": true
    }
  },
  "nbformat": 4,
  "nbformat_minor": 0
}