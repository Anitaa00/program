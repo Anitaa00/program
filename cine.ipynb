{
  "cells": [
    {
      "cell_type": "markdown",
      "metadata": {
        "id": "view-in-github",
        "colab_type": "text"
      },
      "source": [
        "<a href=\"https://colab.research.google.com/github/Anitaa00/program/blob/main/cine.ipynb\" target=\"_parent\"><img src=\"https://colab.research.google.com/assets/colab-badge.svg\" alt=\"Open In Colab\"/></a>"
      ]
    },
    {
      "cell_type": "code",
      "execution_count": null,
      "metadata": {
        "id": "qLa_Il-cZqEq"
      },
      "outputs": [],
      "source": [
        "class Persona:\n",
        "    lista=[]\n",
        "\n",
        "    def __init__(self, nombre, correo):\n",
        "        self.nombre= nombre\n",
        "        self.correo=correo\n",
        "\n",
        "    def registrar(self):\n",
        "        Persona.lista.append(self)\n",
        "        print(f\"La persona {self.nombre} ha sido registrada con el correo {self.correo}\")\n",
        "\n",
        "    def actualizar_datos(self, nombre, correo):\n",
        "        self.nombre=nombre\n",
        "        self.correo=correo\n",
        "        print(f\"los datos han sido actualizados\")\n",
        "\n",
        "    @classmethod\n",
        "    def Personas_registradas(cls):\n",
        "        print(\"personas registradas\")\n",
        "        for Persona in cls.lista:\n",
        "            print(f\"-{Persona.nombre} - {Persona.correo}\")"
      ]
    },
    {
      "cell_type": "code",
      "execution_count": null,
      "metadata": {
        "id": "5sCrQodUZqEr"
      },
      "outputs": [],
      "source": [
        "class Usuario(Persona):\n",
        "    def __init__(self, nombre, correo):\n",
        "        super().__init__(nombre, correo)\n",
        "        self.historial_reservas = []\n",
        "\n",
        "    def reservar(self, funcion, num_boletos):\n",
        "        if num_boletos <= funcion.asientos_disponibles:\n",
        "            funcion.asientos_disponibles -= num_boletos\n",
        "            asientos_ocupados = []\n",
        "            for asiento in funcion.sala.asientos:\n",
        "                if not funcion.sala.asientos[asiento]:\n",
        "                    funcion.sala.asientos[asiento] = True\n",
        "                    asientos_ocupados.append(asiento)\n",
        "                    if len(asientos_ocupados) == num_boletos:\n",
        "                        break\n",
        "            self.historial_reservas.append({\"funcion\": funcion, \"asientos\": asientos_ocupados})\n",
        "            print(f\"Reserva realizada para {funcion.pelicula.titulo} en la sala {funcion.sala.identificador}. Asientos: {asientos_ocupados} \")\n",
        "\n",
        "    def cancelar_reserva(self, funcion):\n",
        "        reserva = next((r for r in self.historial_reservas if r[\"funcion\"] == funcion), None)\n",
        "        if reserva:\n",
        "            funcion.asientos_disponibles += len(reserva[\"asientos\"])\n",
        "            for asiento in reserva[\"asientos\"]:\n",
        "                funcion.sala.asientos[asiento] = False\n",
        "            self.historial_reservas.remove(reserva)\n",
        "            print(f\"Reserva cancelada para '{funcion.pelicula.titulo}'.\")\n",
        "        else:\n",
        "            print(\"No tienes una reserva para esta función.\")\n"
      ]
    },
    {
      "cell_type": "code",
      "execution_count": null,
      "metadata": {
        "id": "THFW7yHHZqEr"
      },
      "outputs": [],
      "source": [
        "class Empleado(Persona):\n",
        "    def __init__(self, nombre, correo, rol):\n",
        "        super().__init__(nombre, correo)\n",
        "        self.rol=rol\n",
        "\n",
        "    def modificar_promocion(self, promocion, nuevo_descuento, nuevas_condiciones):\n",
        "        if self.rol.lower() == \"taquillero\":\n",
        "            promocion.descuento = nuevo_descuento\n",
        "            promocion.condiciones = nuevas_condiciones\n",
        "            print(f\"Promoción modificada: {nuevo_descuento}% de descuento. {nuevas_condiciones}.\")\n",
        "        else:\n",
        "            print(f\"No puedes modificar promociones\")\n",
        "\n",
        "    def agregar_funcion(self, funcion):\n",
        "        if self.rol.lower() == \"taquillero\":\n",
        "            print(f\"Función agregada: {funcion.pelicula.titulo} a las {funcion.hora} en la sala {funcion.sala.identificador}.\")\n",
        "        else:\n",
        "            print(f\"No puedes agregar funciones\")\n",
        "\n",
        "    def agregar_promocion(self, promocion):\n",
        "            if self.rol.lower() == \"taquillero\":\n",
        "                return f\"Promoción agregada:{promocion.descuento}% de descuento. {promocion.condiciones}.\"\n",
        "            else:\n",
        "                print(f\"No puedes agregar promociones\")\n",
        "\n",
        "    def agrega_pelicula(self, pelicula):\n",
        "        if self.rol.lower() == \"taquillero\":\n",
        "            print(f\"Pelicula agregada: {pelicula.titulo}\")\n",
        "        else:\n",
        "            print(f\"No puedes agregar peliculas\")\n",
        "\n"
      ]
    },
    {
      "cell_type": "code",
      "execution_count": null,
      "metadata": {
        "id": "Uh16iqzBZqEr"
      },
      "outputs": [],
      "source": [
        "class Espacio:\n",
        "    def __init__(self, capacidad, identicador):\n",
        "        self.capacidad=capacidad\n",
        "        self.identificador=identicador\n",
        "\n",
        "    def descripcion(self):\n",
        "        print(f\"El edificio tiene tamaño {self.capacidad} y tiene id {self.identificador}\")"
      ]
    },
    {
      "cell_type": "code",
      "execution_count": null,
      "metadata": {
        "id": "DHmQn1UWZqEr"
      },
      "outputs": [],
      "source": [
        "class Sala(Espacio):\n",
        "    def __init__(self, capacidad, identificador, tipo, asientos):\n",
        "        super().__init__(capacidad, identificador)\n",
        "        self.tipo=tipo\n",
        "        self.asientos = {i: False for i in range(1, capacidad + 1)}\n",
        "\n",
        "    def desc(self):\n",
        "        super().descripcion()\n",
        "        print(f\"La sala es de tipo {self.tipo}\")\n",
        "\n",
        "    def asignar_asientos(self, num_asiento):\n",
        "        if num_asiento in self.asientos and self.asientos[num_asiento] is False:\n",
        "            self.asientos[num_asiento] = True\n",
        "            print(f\"Asiento número {num_asiento} ocupado\")\n",
        "\n",
        "    def disp_asientos(self, num_asiento):\n",
        "        if num_asiento in self.asientos and self.asientos[num_asiento] is False:\n",
        "            print(f\"Asiento {num_asiento} está disponible\")\n",
        "        else:\n",
        "            print(f\"Asiento {num_asiento} no está disponible\")\n",
        "\n",
        "    def Ver_asientos(self):\n",
        "        for asiento, ocupado in self.asientos.items():\n",
        "            estado = \"Ocupado\" if ocupado else \"Disponible\"\n",
        "            print(f\"Asiento {asiento}:{estado}\")\n",
        "\n",
        "    def Consultar_asientos(self):\n",
        "        if self.disponibilidad:\n",
        "            print(\"La sala esta disponible\")\n",
        "        else:\n",
        "            print(\"La sala no está disponible\")\n",
        "\n"
      ]
    },
    {
      "cell_type": "code",
      "execution_count": null,
      "metadata": {
        "id": "L0fbRzQtZqEs"
      },
      "outputs": [],
      "source": [
        "class ZonaComida(Espacio):\n",
        "    def __init__(self, capacidad, identicador):\n",
        "        super().__init__(capacidad, identicador)\n",
        "        self.productos = {}\n",
        "\n",
        "    def agregar_producto(self, nombre):\n",
        "        self.productos[nombre] = nombre\n",
        "        print(f\"Se agregó '{nombre}' al menú\")\n",
        "\n",
        "    def mostrar_menu(self):\n",
        "        if self.productos:\n",
        "            print(\"----- MENÚ DE LA ZONA DE COMIDA -----\")\n",
        "            for producto in self.productos:\n",
        "                print(f\"- {producto}\")\n",
        "        else:\n",
        "            print(\"El menú está vacío\")\n",
        "\n",
        "    def ver_productos(self):\n",
        "        print(\"Productos:\")\n",
        "        for prducto, cantidad in self.productos.items():\n",
        "            print(f\"{producto}:{cantidad}\")"
      ]
    },
    {
      "cell_type": "code",
      "execution_count": null,
      "metadata": {
        "id": "czo-x9ISZqEs"
      },
      "outputs": [],
      "source": [
        "class Pelicula:\n",
        "    def __init__(self, titulo, genero, duracion):\n",
        "        self.titulo=titulo\n",
        "        self.genero=genero\n",
        "        self.duracion=duracion"
      ]
    },
    {
      "cell_type": "code",
      "execution_count": null,
      "metadata": {
        "id": "2l3ufadyZqEs"
      },
      "outputs": [],
      "source": [
        "class Funcion:\n",
        "    def __init__(self, pelicula, sala, hora, asientos_disponibles=None):\n",
        "        self.pelicula = pelicula\n",
        "        self.sala = sala\n",
        "        self.hora = hora\n",
        "        self.asientos_disponibles = asientos_disponibles or sala.capacidad\n",
        "        self.boletos_vendidos = 0"
      ]
    },
    {
      "cell_type": "code",
      "execution_count": null,
      "metadata": {
        "id": "CpX6A8zPZqEs"
      },
      "outputs": [],
      "source": [
        "class Promocion:\n",
        "    def __init__(self, descuento, condiciones):\n",
        "        self.descuento = descuento\n",
        "        self.condiciones = condiciones\n",
        "\n",
        "    def mostrar(self):\n",
        "        print(f\"\\nNUEVA PROMOCIÓN!:{self.descuento}% de descuento. Condiciones: {self.condiciones }\")"
      ]
    },
    {
      "cell_type": "code",
      "execution_count": null,
      "metadata": {
        "id": "ORGmQ9UNZqEs",
        "outputId": "a4ed8ec8-a923-4d7e-97c8-89c4ecd03c7c"
      },
      "outputs": [
        {
          "name": "stdout",
          "output_type": "stream",
          "text": [
            "La persona Ana Alejandro ha sido registrada con el correo ana.ale@gmail\n",
            "La persona Abi Antonio ha sido registrada con el correo abi.ant@gmail\n",
            "los datos han sido actualizados\n",
            "El edificio tiene tamaño 10 y tiene id Sala 1\n",
            "Función agregada: Interestelar a las 13:00 en la sala Sala 1.\n",
            "Función agregada: Volver al futuro a las 16:30 en la sala Sala 2.\n",
            "Reserva realizada para Interestelar en la sala Sala 1. Asientos: [1, 2, 3] \n",
            "Asiento 1:Ocupado\n",
            "Asiento 2:Ocupado\n",
            "Asiento 3:Ocupado\n",
            "Asiento 4:Disponible\n",
            "Asiento 5:Disponible\n",
            "Asiento 6:Disponible\n",
            "Asiento 7:Disponible\n",
            "Asiento 8:Disponible\n",
            "Asiento 9:Disponible\n",
            "Asiento 10:Disponible\n",
            "Reserva cancelada para 'Interestelar'.\n",
            "Asiento 1:Disponible\n",
            "Asiento 2:Disponible\n",
            "Asiento 3:Disponible\n",
            "Asiento 4:Disponible\n",
            "Asiento 5:Disponible\n",
            "Asiento 6:Disponible\n",
            "Asiento 7:Disponible\n",
            "Asiento 8:Disponible\n",
            "Asiento 9:Disponible\n",
            "Asiento 10:Disponible\n",
            "\n",
            "NUEVA PROMOCIÓN!:50% de descuento. Condiciones: válido los jueves\n",
            "Promoción modificada: 30% de descuento. Válido los viernes.\n",
            "Pelicula agregada: Spider-Man\n",
            "Se agregó 'Palomitas de maíz' al menú\n",
            "----- MENÚ DE LA ZONA DE COMIDA -----\n",
            "- Palomitas de maíz\n"
          ]
        }
      ],
      "source": [
        "usuario1 = Usuario(\"Ana Alejandro\", \"ana.ale@gmail\")\n",
        "empleado1 = Empleado(\"Abi Antonio\", \"abi.ant@gmail\", \"Taquillero\")\n",
        "usuario1.registrar()\n",
        "empleado1.registrar()\n",
        "usuario1.actualizar_datos(\"Rosa Fernandez\", \"rosita@gmail\")\n",
        "\n",
        "pelicula1 = Pelicula(\"Interestelar\", \"Ciencia Ficción\", 190)\n",
        "sala1 = Sala(10, \"Sala 1\", \"2D\",  {i: False for i in range(1, 11)})\n",
        "sala1.descripcion()\n",
        "\n",
        "pelicula2 = Pelicula(\"Volver al futuro\", \"Ciencia Ficción\", 185)\n",
        "sala2 = Sala(10, \"Sala 2\", \"3D\", {i: False for i in range(1, 11)} )\n",
        "\n",
        "pelicula3 = Pelicula(\"Spider-Man\", \"Ciencia Ficción\", 195)\n",
        "funcion1 = Funcion(pelicula1, sala1, \"13:00\", 10)\n",
        "empleado1.agregar_funcion(funcion1)\n",
        "\n",
        "funcion2 = Funcion(pelicula2, sala2, \"16:30\", 10)\n",
        "empleado1.agregar_funcion(funcion2)\n",
        "\n",
        "usuario1.reservar(funcion1, 3)\n",
        "sala1.Ver_asientos()\n",
        "usuario1.cancelar_reserva(funcion1)\n",
        "sala1.Ver_asientos()\n",
        "\n",
        "promocion1 = Promocion(50, \"válido los jueves\")\n",
        "promocion1.mostrar()\n",
        "\n",
        "empleado1.modificar_promocion(promocion1, 30, \"Válido los viernes\")\n",
        "empleado1.agrega_pelicula(pelicula3)\n",
        "\n",
        "comida1 = ZonaComida(10, \"ZonaComida\")\n",
        "comida1.agregar_producto(\"Palomitas de maíz\")\n",
        "comida1.mostrar_menu()\n"
      ]
    }
  ],
  "metadata": {
    "kernelspec": {
      "display_name": "Python 3",
      "language": "python",
      "name": "python3"
    },
    "language_info": {
      "codemirror_mode": {
        "name": "ipython",
        "version": 3
      },
      "file_extension": ".py",
      "mimetype": "text/x-python",
      "name": "python",
      "nbconvert_exporter": "python",
      "pygments_lexer": "ipython3",
      "version": "3.13.1"
    },
    "colab": {
      "provenance": [],
      "include_colab_link": true
    }
  },
  "nbformat": 4,
  "nbformat_minor": 0
}