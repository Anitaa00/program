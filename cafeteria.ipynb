{
  "cells": [
    {
      "cell_type": "markdown",
      "metadata": {
        "id": "view-in-github",
        "colab_type": "text"
      },
      "source": [
        "<a href=\"https://colab.research.google.com/github/Anitaa00/program/blob/main/cafeteria.ipynb\" target=\"_parent\"><img src=\"https://colab.research.google.com/assets/colab-badge.svg\" alt=\"Open In Colab\"/></a>"
      ]
    },
    {
      "cell_type": "code",
      "execution_count": null,
      "metadata": {
        "id": "UqbWN3MvbUUy"
      },
      "outputs": [],
      "source": [
        "class Persona:\n",
        "    lista = []\n",
        "\n",
        "    def __init__(self, nombre):\n",
        "        self.nombre=nombre\n",
        "\n",
        "    def registrar(self):\n",
        "        Persona.lista.append(self)\n",
        "        print(f\"La persona {self.nombre} ha sido registrada\")\n",
        "\n",
        "    def actualizar_datos(self, nombre):\n",
        "        self.nombre=nombre\n",
        "        print(f\"los datos han sido actualizados\")\n",
        "\n",
        "    @classmethod\n",
        "    def Personas_registradas(cls):\n",
        "        print(\"personas registradas\")\n",
        "        for Persona in cls.lista:\n",
        "            print(f\"-{Persona.nombre}\")"
      ]
    },
    {
      "cell_type": "code",
      "execution_count": null,
      "metadata": {
        "id": "ciF6aFMIbUUz"
      },
      "outputs": [],
      "source": [
        "class Cliente(Persona):\n",
        "    def __init__(self, nombre, frecuente=False):\n",
        "        super().__init__(nombre)\n",
        "        self.historial_pedidos = []\n",
        "        self.frecuente = frecuente\n",
        "\n",
        "    def realizar_pedido(self, pedido, inventario, promocion=None):\n",
        "        if pedido.verificar_disp(inventario):\n",
        "            if promocion and self.frecuente == \"Frecuente\":\n",
        "                promocion.aplicar_desc(pedido)\n",
        "            self.historial_pedidos.append(pedido)\n",
        "            pedido.act_stock(inventario)\n",
        "            pedido.cambia_estado(\"EN PREPARACIÓN\")\n",
        "            for producto in pedido.producto:\n",
        "                print(f\"- {producto.nombre} - ${producto.precio}\")\n",
        "            print(f\"- TOTAL CON DESCUENTO: ${pedido.total}\")\n",
        "\n",
        "    def cons_historial(self):\n",
        "        print(f\"\\nHistorial de pedidos de {self.nombre}:\\n\")\n",
        "        for pedido in self.historial_pedidos:\n",
        "            pedido.mostrar_pedido()"
      ]
    },
    {
      "cell_type": "code",
      "execution_count": null,
      "metadata": {
        "id": "e0v5UDUNbUUz"
      },
      "outputs": [],
      "source": [
        "class Empleado(Persona):\n",
        "    def __init__(self, nombre, rol):\n",
        "        super().__init__(nombre)\n",
        "        self.rol = rol\n",
        "\n",
        "    def act_inventario(self, inventario, ingrediente, cantidad):\n",
        "            inventario.agrega_ingrediente(ingrediente, cantidad)\n",
        "            print(f\"{self.nombre}, {self.rol}, ha agregado: +{cantidad} de {ingrediente}\")"
      ]
    },
    {
      "cell_type": "code",
      "execution_count": null,
      "metadata": {
        "id": "bfa2KZW4bUUz"
      },
      "outputs": [],
      "source": [
        "class ProductoBase:\n",
        "    def __init__(self, nombre, precio, ingredientes=None):\n",
        "        self.nombre=nombre\n",
        "        self.precio=precio\n",
        "        self.ingredientes=ingredientes or {}\n",
        ""
      ]
    },
    {
      "cell_type": "code",
      "execution_count": null,
      "metadata": {
        "id": "EERsIsZWbUU0"
      },
      "outputs": [],
      "source": [
        "class Bebida(ProductoBase):\n",
        "    def __init__(self, nombre, precio, tamaño, tipo, opciones=None, ingredientes=None):\n",
        "        super().__init__(nombre, precio, ingredientes)\n",
        "        self.tamaño=tamaño\n",
        "        self.tipo=tipo\n",
        "        self.opciones=opciones or {}\n",
        "\n",
        "    def descrip(self):\n",
        "        print(f\"-NOMBRE: {self.nombre} - PRECIO: ${self.precio} - TAMAÑO: {self.tamaño}\")\n",
        "\n"
      ]
    },
    {
      "cell_type": "code",
      "execution_count": null,
      "metadata": {
        "id": "lQzwnfo2bUU0"
      },
      "outputs": [],
      "source": [
        "class Postre(ProductoBase):\n",
        "    def __init__(self, nombre, precio, vegano=False, sin_gluten=False, ingredientes=None):\n",
        "        super().__init__(nombre, precio, ingredientes)\n",
        "        self.vegano=vegano\n",
        "        self.sin_gluten=sin_gluten\n",
        "\n",
        "    def descrip(self):\n",
        "        print(f\"-NOMBRE: {self.nombre} - PRECIO: ${self.precio} -\")\n",
        "        print(f\"   VEGANO: {'Si es vegano' if self.sin_gluten else 'No es vegano'} - SIN GLUTEN: {'No contiene gluten' if self.sin_gluten else 'Si contiene gluten'}\")\n",
        ""
      ]
    },
    {
      "cell_type": "code",
      "execution_count": null,
      "metadata": {
        "id": "xEnnhgX6bUU0"
      },
      "outputs": [],
      "source": [
        "class Inventario:\n",
        "    def __init__(self):\n",
        "        self.ingredientes = {}\n",
        "\n",
        "    def agrega_ingrediente(self, ingrediente, cantidad):\n",
        "        self.ingredientes[ingrediente]= self.ingredientes.get(ingrediente, 0) + cantidad\n",
        "\n",
        "    def act_stock(self, ingredientes):\n",
        "        for ingrediente, cantidad in ingredientes.items():\n",
        "            if ingrediente in self.ingredientes:\n",
        "                self.ingredientes[ingrediente] -= cantidad\n",
        "\n",
        "    def verificar_disp(self, ingredientes_req):\n",
        "        falta = [\n",
        "            ingrediente for ingrediente, cantidad in ingredientes_req.items()\n",
        "            if self.ingredientes.get(ingrediente, 0) < cantidad\n",
        "            ]\n",
        "        if falta:\n",
        "            print( f\"NO HAY INGREDIENTES SUFICIENTES: {\",\".join(falta)}\")\n",
        "            return False\n",
        "        return True\n",
        "\n",
        "    def cons_inventario(self):\n",
        "        print(\"INVENTARIO\")\n",
        "        for ingrediente, cantidad in self.ingredientes.items():\n",
        "            print(f\"- {ingrediente}: {cantidad}\")\n"
      ]
    },
    {
      "cell_type": "code",
      "execution_count": null,
      "metadata": {
        "id": "4Tn_UAogbUU0"
      },
      "outputs": [],
      "source": [
        "class Pedido:\n",
        "    def __init__(self, cliente):\n",
        "        self.cliente = cliente\n",
        "        self.producto = []\n",
        "        self.estado = \"Pendiente\"\n",
        "        self.total = 0\n",
        "        print(f\"Se hizo un pedido a nombre de {self.cliente.nombre}\")\n",
        "\n",
        "    def agrega_producto(self, producto):\n",
        "        self.producto.append(producto)\n",
        "        self.total += producto.precio\n",
        "\n",
        "\n",
        "    def cambia_estado(self, camb_estado):\n",
        "        self.estado = camb_estado\n",
        "        print(f\"ESTADO DEL PEDIDO DE {self.cliente.nombre}: {self.estado}\")\n",
        "\n",
        "    def total(self):\n",
        "        return self.total\n",
        "\n",
        "    def mostrar_pedido(self):\n",
        "        print(f\"\\nPedido de {self.cliente.nombre}:\")\n",
        "        for producto in self.producto:\n",
        "            print(f\"-> {producto.nombre}: ${producto.precio}\")\n",
        "        print(f\"-> Total con descuento: ${self.total}\")\n",
        "        print(f\"-> Estado: {self.estado}\\n\")\n",
        "\n",
        "    def verificar_disp(self, inventario):\n",
        "        return all(inventario.verificar_disp(produc.ingredientes) for produc in self.producto)\n",
        "\n",
        "    def act_stock(self, inventario):\n",
        "        for produc in self.producto:\n",
        "            inventario.act_stock(produc.ingredientes)"
      ]
    },
    {
      "cell_type": "code",
      "execution_count": null,
      "metadata": {
        "id": "oDSUA0lLbUU0"
      },
      "outputs": [],
      "source": [
        "class Promocion:\n",
        "    def __init__(self, descripcion, descuento):\n",
        "        self.descripcion=descripcion\n",
        "        self.descuento = descuento\n",
        "\n",
        "    def aplicar_desc(self, pedido):\n",
        "        pedido.total *= (1 - self.descuento / 100)\n",
        "        if pedido.cliente.frecuente:\n",
        "            pedido.total *= 0.99\n",
        ""
      ]
    },
    {
      "cell_type": "code",
      "execution_count": null,
      "metadata": {
        "id": "fUWtoIuIbUU0",
        "outputId": "027aad98-dd5d-499f-d5ad-13dd8d177718"
      },
      "outputs": [
        {
          "name": "stdout",
          "output_type": "stream",
          "text": [
            "INVENTARIO\n",
            "- Leche entera: 5\n",
            "- Café: 4\n",
            "- Chocolate: 4\n",
            "- Azúcar: 5\n",
            "- Base de tarta: 5\n",
            "- Helado: 10\n",
            "- Leche vegetal: 5\n",
            "- Crema cheesecake: 3\n",
            "La persona Anita ha sido registrada\n",
            "La persona Abigail ha sido registrada\n",
            "La persona Axel ha sido registrada\n",
            "La persona Rosita ha sido registrada\n",
            "-NOMBRE: Latte - PRECIO: $55 - TAMAÑO: Mediano\n",
            "-NOMBRE: Tarta de chocolate - PRECIO: $60 -\n",
            "   VEGANO: No es vegano - SIN GLUTEN: Si contiene gluten\n",
            "-NOMBRE: Americano - PRECIO: $50 - TAMAÑO: Grande\n",
            "-NOMBRE: Malteada - PRECIO: $50 - TAMAÑO: Grande\n",
            "-NOMBRE: Cheesecake - PRECIO: $70 -\n",
            "   VEGANO: Si es vegano - SIN GLUTEN: No contiene gluten\n",
            "Se hizo un pedido a nombre de Abigail\n",
            "ESTADO DEL PEDIDO DE Abigail: EN PREPARACIÓN\n",
            "- Latte - $55\n",
            "- Tarta de chocolate - $60\n",
            "- Malteada - $50\n",
            "- TOTAL CON DESCUENTO: $165\n",
            "Se hizo un pedido a nombre de Axel\n",
            "ESTADO DEL PEDIDO DE Axel: EN PREPARACIÓN\n",
            "- Americano - $50\n",
            "- Malteada - $50\n",
            "- Tarta de chocolate - $60\n",
            "- TOTAL CON DESCUENTO: $160\n",
            "Se hizo un pedido a nombre de Rosita\n",
            "NO HAY INGREDIENTES SUFICIENTES: Chocolate\n",
            "ESTADO DEL PEDIDO DE Abigail: Entregado\n",
            "ESTADO DEL PEDIDO DE Axel: Entregado\n",
            "\n",
            "Historial de pedidos de Abigail:\n",
            "\n",
            "\n",
            "Pedido de Abigail:\n",
            "-> Latte: $55\n",
            "-> Tarta de chocolate: $60\n",
            "-> Malteada: $50\n",
            "-> Total con descuento: $165\n",
            "-> Estado: Entregado\n",
            "\n",
            "\n",
            "Historial de pedidos de Axel:\n",
            "\n",
            "\n",
            "Pedido de Axel:\n",
            "-> Americano: $50\n",
            "-> Malteada: $50\n",
            "-> Tarta de chocolate: $60\n",
            "-> Total con descuento: $160\n",
            "-> Estado: Entregado\n",
            "\n",
            "\n",
            "Historial de pedidos de Rosita:\n",
            "\n",
            "INVENTARIO\n",
            "- Leche entera: 2\n",
            "- Café: 1\n",
            "- Chocolate: 0\n",
            "- Azúcar: 3\n",
            "- Base de tarta: 3\n",
            "- Helado: 6\n",
            "- Leche vegetal: 5\n",
            "- Crema cheesecake: 3\n",
            "Anita, Barista, ha agregado: +10 de Chocolate\n",
            "Anita, Barista, ha agregado: +5 de Café\n",
            "INVENTARIO\n",
            "- Leche entera: 2\n",
            "- Café: 6\n",
            "- Chocolate: 10\n",
            "- Azúcar: 3\n",
            "- Base de tarta: 3\n",
            "- Helado: 6\n",
            "- Leche vegetal: 5\n",
            "- Crema cheesecake: 3\n"
          ]
        }
      ],
      "source": [
        "inventario = Inventario()\n",
        "inventario.agrega_ingrediente(\"Leche entera\", 5)\n",
        "inventario.agrega_ingrediente(\"Café\", 4)\n",
        "inventario.agrega_ingrediente(\"Chocolate\", 4)\n",
        "inventario.agrega_ingrediente(\"Azúcar\", 5)\n",
        "inventario.agrega_ingrediente(\"Base de tarta\", 5)\n",
        "inventario.agrega_ingrediente(\"Helado\", 10)\n",
        "inventario.agrega_ingrediente(\"Leche vegetal\", 5)\n",
        "inventario.agrega_ingrediente(\"Crema cheesecake\", 3)\n",
        "inventario.cons_inventario()\n",
        "\n",
        "empleado1= Empleado(\"Anita\", \"Barista\")\n",
        "empleado1.registrar()\n",
        "\n",
        "cliente1 = Cliente(\"Abigail\")\n",
        "cliente1.registrar()\n",
        "\n",
        "cliente2 = Cliente(\"Axel\")\n",
        "cliente2.registrar()\n",
        "\n",
        "cliente3 = Cliente(\"Rosita\")\n",
        "cliente3.registrar()\n",
        "\n",
        "latte = Bebida(\"Latte\", 55, \"Mediano\", \"Caliente\", \"Sin azucar\",{\"Café\": 2, \"Leche entera\":1} )\n",
        "latte.descrip()\n",
        "tarta = Postre(\"Tarta de chocolate\", 60, ingredientes={\"Base de tarta\":1, \"Chocolate\": 2} )\n",
        "tarta.descrip()\n",
        "cafe = Bebida(\"Americano\", 50, \"Grande\", \"Caliente\", \"doble azucar\", {\"Café\": 1, \"Azúcar\": 2})\n",
        "cafe.descrip()\n",
        "malteada = Bebida(\"Malteada\", 50, \"Grande\", \"Fría\", \"Leche de entera\", {\"Leche entera\": 1, \"Helado\":2})\n",
        "malteada.descrip()\n",
        "cheesecake = Postre(\"Cheesecake\", 70, vegano=False, sin_gluten=True, ingredientes={\"Base de tarta\":1, \"Crema cheesecake\": 2} )\n",
        "cheesecake.descrip()\n",
        "\n",
        "promo1 = Promocion(\"Descuento de 5% para nuestros clientes especiales\", 5)\n",
        "\n",
        "pedido1 = Pedido(cliente1)\n",
        "pedido1.agrega_producto(latte)\n",
        "pedido1.agrega_producto(tarta)\n",
        "pedido1.agrega_producto(malteada)\n",
        "cliente1.realizar_pedido(pedido1, inventario, promo1)\n",
        "\n",
        "pedido2 = Pedido(cliente2)\n",
        "pedido2.agrega_producto(cafe)\n",
        "pedido2.agrega_producto(malteada)\n",
        "pedido2.agrega_producto(tarta)\n",
        "cliente2.realizar_pedido(pedido2, inventario, None)\n",
        "\n",
        "pedido3 = Pedido(cliente3)\n",
        "pedido3.agrega_producto(tarta)\n",
        "pedido3.agrega_producto(latte)\n",
        "cliente3.realizar_pedido(pedido3, inventario, promo1)\n",
        "\n",
        "pedido1.cambia_estado(\"Entregado\")\n",
        "pedido2.cambia_estado(\"Entregado\")\n",
        "\n",
        "cliente1.cons_historial()\n",
        "cliente2.cons_historial()\n",
        "cliente3.cons_historial()\n",
        "\n",
        "inventario.cons_inventario()\n",
        "\n",
        "empleado1.act_inventario(inventario, \"Chocolate\", 10)\n",
        "empleado1.act_inventario(inventario, \"Café\", 5)\n",
        "\n",
        "inventario.cons_inventario()"
      ]
    }
  ],
  "metadata": {
    "kernelspec": {
      "display_name": "Python 3",
      "language": "python",
      "name": "python3"
    },
    "language_info": {
      "codemirror_mode": {
        "name": "ipython",
        "version": 3
      },
      "file_extension": ".py",
      "mimetype": "text/x-python",
      "name": "python",
      "nbconvert_exporter": "python",
      "pygments_lexer": "ipython3",
      "version": "3.13.1"
    },
    "colab": {
      "provenance": [],
      "include_colab_link": true
    }
  },
  "nbformat": 4,
  "nbformat_minor": 0
}